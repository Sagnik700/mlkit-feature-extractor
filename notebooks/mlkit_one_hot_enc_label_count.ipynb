{
 "cells": [
  {
   "cell_type": "code",
   "execution_count": 1,
   "id": "61915823",
   "metadata": {},
   "outputs": [],
   "source": [
    "import numpy as np\n",
    "import pandas as pd"
   ]
  },
  {
   "cell_type": "code",
   "execution_count": 3,
   "id": "53bdfe8b",
   "metadata": {},
   "outputs": [
    {
     "name": "stdout",
     "output_type": "stream",
     "text": [
      "(29463, 432)\n",
      "     Filename  Team  Bonfire  Comics  Himalayan  Iceberg  Bento  Sink  Toy  \\\n",
      "0   100855729   0.0      0.0     0.0        0.0      0.0    0.0   0.0  0.0   \n",
      "1  1010217551   0.0      0.0     0.0        0.0      0.0    0.0   0.0  0.0   \n",
      "2   103862396   0.0      0.0     0.0        0.0      0.0    0.0   0.0  1.0   \n",
      "3   104533575   0.0      0.0     0.0        0.0      0.0    0.0   0.0  0.0   \n",
      "4  1067574225   0.0      0.0     0.0        0.0      0.0    0.0   0.0  0.0   \n",
      "\n",
      "   Statue  ...  Army  Canoe  Selfie  Rickshaw  Barn  Archery  \\\n",
      "0     0.0  ...   0.0    0.0     0.0       0.0   0.0      0.0   \n",
      "1     0.0  ...   0.0    0.0     0.0       0.0   0.0      0.0   \n",
      "2     0.0  ...   0.0    0.0     0.0       0.0   0.0      0.0   \n",
      "3     0.0  ...   0.0    0.0     0.0       0.0   0.0      0.0   \n",
      "4     0.0  ...   0.0    0.0     0.0       0.0   0.0      0.0   \n",
      "\n",
      "   Aerospace engineering  Storm  Helmet  Privacy  \n",
      "0                    0.0    0.0     0.0  private  \n",
      "1                    0.0    0.0     0.0  private  \n",
      "2                    0.0    0.0     0.0  private  \n",
      "3                    0.0    0.0     0.0  private  \n",
      "4                    0.0    0.0     0.0  private  \n",
      "\n",
      "[5 rows x 432 columns]\n"
     ]
    }
   ],
   "source": [
    "data_dt = pd.read_csv('features/mlkit/final_csv/mlkit_final_one_hot_enc.csv')\n",
    "print(data_dt.shape)\n",
    "print(data_dt.head())"
   ]
  },
  {
   "cell_type": "code",
   "execution_count": 7,
   "id": "958dcd9a",
   "metadata": {},
   "outputs": [],
   "source": [
    "private_df = data_dt[0:6834].iloc[:,1:-1]\n",
    "public_df = data_dt[6834:].iloc[:,1:-1]"
   ]
  },
  {
   "cell_type": "code",
   "execution_count": 18,
   "id": "899daa36",
   "metadata": {},
   "outputs": [],
   "source": [
    "top_private = private_df.sum(axis=0, numeric_only=True).sort_values(ascending=False)\n",
    "top_public = public_df.sum(axis=0, numeric_only=True).sort_values(ascending=False)"
   ]
  },
  {
   "cell_type": "code",
   "execution_count": 19,
   "id": "a67b837f",
   "metadata": {},
   "outputs": [],
   "source": [
    "top_private.to_csv('features/mlkit/final_csv/top_private_labels.csv', index=True)\n",
    "top_public.to_csv('features/mlkit/final_csv/top_public_labels.csv', index=True)"
   ]
  }
 ],
 "metadata": {
  "kernelspec": {
   "display_name": "Python 3 (ipykernel)",
   "language": "python",
   "name": "python3"
  },
  "language_info": {
   "codemirror_mode": {
    "name": "ipython",
    "version": 3
   },
   "file_extension": ".py",
   "mimetype": "text/x-python",
   "name": "python",
   "nbconvert_exporter": "python",
   "pygments_lexer": "ipython3",
   "version": "3.9.7"
  }
 },
 "nbformat": 4,
 "nbformat_minor": 5
}
