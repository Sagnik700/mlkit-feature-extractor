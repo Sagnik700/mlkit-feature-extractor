{
 "cells": [
  {
   "cell_type": "code",
   "execution_count": 1,
   "id": "d49169bd",
   "metadata": {},
   "outputs": [],
   "source": [
    "import numpy as np\n",
    "import pandas as pd"
   ]
  },
  {
   "cell_type": "code",
   "execution_count": 11,
   "id": "70dcef28",
   "metadata": {},
   "outputs": [
    {
     "name": "stdout",
     "output_type": "stream",
     "text": [
      "(29463, 432)\n",
      "     Filename      Team  Bonfire  Comics  Himalayan  Iceberg  Bento  Sink  \\\n",
      "0   100855729  0.000000      0.0     0.0        0.0      0.0    0.0   0.0   \n",
      "1  1010217551  0.364438      0.0     0.0        0.0      0.0    0.0   0.0   \n",
      "2   103862396  0.000000      0.0     0.0        0.0      0.0    0.0   0.0   \n",
      "3   104533575  0.000000      0.0     0.0        0.0      0.0    0.0   0.0   \n",
      "4  1067574225  0.263917      0.0     0.0        0.0      0.0    0.0   0.0   \n",
      "\n",
      "        Toy    Statue  ...  Army    Canoe    Selfie  Rickshaw  Barn  Archery  \\\n",
      "0  0.156001  0.000000  ...   0.0  0.00000  0.000000       0.0   0.0      0.0   \n",
      "1  0.193802  0.000000  ...   0.0  0.00000  0.000000       0.0   0.0      0.0   \n",
      "2  0.519344  0.132422  ...   0.0  0.00000  0.259797       0.0   0.0      0.0   \n",
      "3  0.360400  0.000000  ...   0.0  0.00000  0.000000       0.0   0.0      0.0   \n",
      "4  0.124413  0.000000  ...   0.0  0.13727  0.169324       0.0   0.0      0.0   \n",
      "\n",
      "   Aerospace engineering     Storm    Helmet  Privacy  \n",
      "0                    0.0  0.000000  0.000000  private  \n",
      "1                    0.0  0.000000  0.192344  private  \n",
      "2                    0.0  0.000000  0.244625  private  \n",
      "3                    0.0  0.000000  0.130560  private  \n",
      "4                    0.0  0.156015  0.180686  private  \n",
      "\n",
      "[5 rows x 432 columns]\n"
     ]
    }
   ],
   "source": [
    "data_dt = pd.read_csv('features/mlkit/final_csv/mlkit_final.csv')\n",
    "one_hot_enc = data_dt.copy()\n",
    "print(one_hot_enc.shape)\n",
    "print(one_hot_enc.head())"
   ]
  },
  {
   "cell_type": "code",
   "execution_count": 12,
   "id": "f335cfbd",
   "metadata": {},
   "outputs": [],
   "source": [
    "new_df = one_hot_enc.iloc[:,1:-1]\n",
    "cols = new_df.shape[1]\n",
    "rows = new_df.shape[0]\n",
    "for i in range(rows):\n",
    "    for j in range(cols):\n",
    "        if float(new_df.iloc[i,j]) >= 0.5:\n",
    "            new_df.iloc[i,j] = 1\n",
    "        else:\n",
    "            new_df.iloc[i,j] = 0"
   ]
  },
  {
   "cell_type": "code",
   "execution_count": 15,
   "id": "69e999b3",
   "metadata": {},
   "outputs": [
    {
     "name": "stdout",
     "output_type": "stream",
     "text": [
      "(29463, 430)\n",
      "   Team  Bonfire  Comics  Himalayan  Iceberg  Bento  Sink  Toy  Statue  \\\n",
      "0   0.0      0.0     0.0        0.0      0.0    0.0   0.0  0.0     0.0   \n",
      "1   0.0      0.0     0.0        0.0      0.0    0.0   0.0  0.0     0.0   \n",
      "2   0.0      0.0     0.0        0.0      0.0    0.0   0.0  1.0     0.0   \n",
      "3   0.0      0.0     0.0        0.0      0.0    0.0   0.0  0.0     0.0   \n",
      "4   0.0      0.0     0.0        0.0      0.0    0.0   0.0  0.0     0.0   \n",
      "\n",
      "   Cheeseburger  ...  Supervillain  Army  Canoe  Selfie  Rickshaw  Barn  \\\n",
      "0           0.0  ...           0.0   0.0    0.0     0.0       0.0   0.0   \n",
      "1           0.0  ...           0.0   0.0    0.0     0.0       0.0   0.0   \n",
      "2           0.0  ...           0.0   0.0    0.0     0.0       0.0   0.0   \n",
      "3           0.0  ...           0.0   0.0    0.0     0.0       0.0   0.0   \n",
      "4           0.0  ...           0.0   0.0    0.0     0.0       0.0   0.0   \n",
      "\n",
      "   Archery  Aerospace engineering  Storm  Helmet  \n",
      "0      0.0                    0.0    0.0     0.0  \n",
      "1      0.0                    0.0    0.0     0.0  \n",
      "2      0.0                    0.0    0.0     0.0  \n",
      "3      0.0                    0.0    0.0     0.0  \n",
      "4      0.0                    0.0    0.0     0.0  \n",
      "\n",
      "[5 rows x 430 columns]\n"
     ]
    }
   ],
   "source": [
    "print(new_df.shape)\n",
    "print(new_df.head())\n",
    "bkp = new_df.copy()"
   ]
  },
  {
   "cell_type": "code",
   "execution_count": 24,
   "id": "890442c7",
   "metadata": {},
   "outputs": [
    {
     "name": "stdout",
     "output_type": "stream",
     "text": [
      "(29463, 432)\n",
      "     Filename  Team  Bonfire  Comics  Himalayan  Iceberg  Bento  Sink  Toy  \\\n",
      "0   100855729   0.0      0.0     0.0        0.0      0.0    0.0   0.0  0.0   \n",
      "1  1010217551   0.0      0.0     0.0        0.0      0.0    0.0   0.0  0.0   \n",
      "2   103862396   0.0      0.0     0.0        0.0      0.0    0.0   0.0  1.0   \n",
      "3   104533575   0.0      0.0     0.0        0.0      0.0    0.0   0.0  0.0   \n",
      "4  1067574225   0.0      0.0     0.0        0.0      0.0    0.0   0.0  0.0   \n",
      "\n",
      "   Statue  ...  Army  Canoe  Selfie  Rickshaw  Barn  Archery  \\\n",
      "0     0.0  ...   0.0    0.0     0.0       0.0   0.0      0.0   \n",
      "1     0.0  ...   0.0    0.0     0.0       0.0   0.0      0.0   \n",
      "2     0.0  ...   0.0    0.0     0.0       0.0   0.0      0.0   \n",
      "3     0.0  ...   0.0    0.0     0.0       0.0   0.0      0.0   \n",
      "4     0.0  ...   0.0    0.0     0.0       0.0   0.0      0.0   \n",
      "\n",
      "   Aerospace engineering  Storm  Helmet  Privacy  \n",
      "0                    0.0    0.0     0.0  private  \n",
      "1                    0.0    0.0     0.0  private  \n",
      "2                    0.0    0.0     0.0  private  \n",
      "3                    0.0    0.0     0.0  private  \n",
      "4                    0.0    0.0     0.0  private  \n",
      "\n",
      "[5 rows x 432 columns]\n"
     ]
    }
   ],
   "source": [
    "bkp.insert(0, 'Filename', one_hot_enc['Filename'])\n",
    "bkp['Privacy'] = one_hot_enc['Privacy']\n",
    "print(bkp.shape)\n",
    "print(bkp.head())"
   ]
  },
  {
   "cell_type": "code",
   "execution_count": 25,
   "id": "3bd561ec",
   "metadata": {},
   "outputs": [],
   "source": [
    "bkp.to_csv('features/mlkit/final_csv/mlkit_final_one_hot_enc.csv', index=False)"
   ]
  }
 ],
 "metadata": {
  "kernelspec": {
   "display_name": "Python 3 (ipykernel)",
   "language": "python",
   "name": "python3"
  },
  "language_info": {
   "codemirror_mode": {
    "name": "ipython",
    "version": 3
   },
   "file_extension": ".py",
   "mimetype": "text/x-python",
   "name": "python",
   "nbconvert_exporter": "python",
   "pygments_lexer": "ipython3",
   "version": "3.9.7"
  }
 },
 "nbformat": 4,
 "nbformat_minor": 5
}
